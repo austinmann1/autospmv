{
 "cells": [
  {
   "cell_type": "markdown",
   "metadata": {},
   "source": [
    "# AutoSpMV GPU Optimization Demo\n",
    "\n",
    "This notebook demonstrates the GPU kernel optimization framework using KernelBench tasks."
   ]
  },
  {
   "cell_type": "code",
   "execution_count": null,
   "metadata": {},
   "source": [
    "# Verify GPU is available\n",
    "!nvidia-smi"
   ]
  },
  {
   "cell_type": "code",
   "execution_count": null,
   "metadata": {},
   "source": [
    "# Clone and setup repository\n",
    "!git clone https://github.com/austinmann1/autospmv.git\n",
    "%cd autospmv\n",
    "\n",
    "# Install dependencies\n",
    "!pip install -r requirements.txt\n",
    "!pip install git+https://github.com/kernelbench/kernelbench.git"
   ]
  },
  {
   "cell_type": "code",
   "execution_count": null,
   "metadata": {},
   "source": [
    "# Setup environment\n",
    "import os\n",
    "import torch\n",
    "from pathlib import Path\n",
    "from src.cuda.auto_cuda import AutoCUDA\n",
    "\n",
    "# Set API key\n",
    "os.environ['OPENROUTER_API_KEY'] = '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'\n",
    "\n",
    "# Verify CUDA\n",
    "print(f'CUDA available: {torch.cuda.is_available()}')\n",
    "if torch.cuda.is_available():\n",
    "    print(f'GPU: {torch.cuda.get_device_name()}')"
   ]
  },
  {
   "cell_type": "code",
   "execution_count": null,
   "metadata": {},
   "source": [
    "# Run optimization\n",
    "output_dir = Path('output')\n",
    "auto_cuda = AutoCUDA(output_dir, task_id='spmv_level1', use_mock=False)\n",
    "\n",
    "# Run optimization loop\n",
    "result = auto_cuda.optimize(max_iterations=3)\n",
    "\n",
    "# Print results\n",
    "print('\\nOptimization Results:')\n",
    "print(f'Baseline Runtime: {result[\"baseline_metrics\"][\"runtime_ms\"]:.2f} ms')\n",
    "print(f'Best Runtime: {result[\"best_metrics\"][\"runtime_ms\"]:.2f} ms')\n",
    "print(f'Speedup: {result[\"baseline_metrics\"][\"runtime_ms\"] / result[\"best_metrics\"][\"runtime_ms\"]:.2f}x')\n",
    "\n",
    "print('\\nOptimization History:')\n",
    "for entry in result['optimization_history']:\n",
    "    if 'error' in entry:\n",
    "        print(f'Iteration {entry[\"iteration\"]}: Failed - {entry[\"error\"]}')\n",
    "    else:\n",
    "        print(f'\\nIteration {entry[\"iteration\"]}: {entry[\"metrics\"][\"runtime_ms\"]:.2f} ms')\n",
    "        if 'key_changes' in entry:\n",
    "            for change in entry['key_changes']:\n",
    "                print(f'  - {change}')\n",
    "        print('Metrics:')\n",
    "        print(f'  Occupancy: {entry[\"metrics\"].get(\"achieved_occupancy\", \"N/A\")}')\n",
    "        print(f'  Read Throughput: {entry[\"metrics\"].get(\"dram_read_throughput\", \"N/A\")} GB/s')\n",
    "        print(f'  Write Throughput: {entry[\"metrics\"].get(\"dram_write_throughput\", \"N/A\")} GB/s')"
   ]
  }
 ],
 "metadata": {
  "accelerator": "GPU",
  "colab": {
   "gpuType": "T4",
   "provenance": []
  },
  "kernelspec": {
   "display_name": "Python 3",
   "language": "python",
   "name": "python3"
  },
  "language_info": {
   "codemirror_mode": {
    "name": "ipython",
    "version": 3
   },
   "file_extension": ".py",
   "mimetype": "text/x-python",
   "name": "python",
   "nbconvert_exporter": "python",
   "pygments_lexer": "ipython3",
   "version": "3.8.10"
  }
 },
 "nbformat": 4,
 "nbformat_minor": 4
}
